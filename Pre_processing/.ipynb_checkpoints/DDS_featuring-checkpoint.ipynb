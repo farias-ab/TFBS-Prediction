{
 "cells": [
  {
   "cell_type": "code",
   "execution_count": null,
   "id": "5f3189d5",
   "metadata": {},
   "outputs": [],
   "source": [
    "import os"
   ]
  },
  {
   "cell_type": "code",
   "execution_count": null,
   "id": "5e2d7bd4",
   "metadata": {},
   "outputs": [],
   "source": [
    "#this table represent the DDS value. If you want to use another propriety, replace the values bellow.\n",
    "stability_values = {\n",
    "    'AA': -1,\n",
    "    'AT': -0.88,\n",
    "    'TA': -0.58,\n",
    "    'AG': -1.3,\n",
    "    'GA': -1.3,\n",
    "    'TT': -1,\n",
    "    'AC': -1.45,\n",
    "    'CA': -1.45,\n",
    "    'TG': -1.44,\n",
    "    'GT': -1.44,\n",
    "    'TC': -1.28,\n",
    "    'CT': -1.28,\n",
    "    'CC': -1.84,\n",
    "    'CG': -2.24,\n",
    "    'GC': -2.27,\n",
    "    'GG': -1.84\n",
    "}"
   ]
  },
  {
   "cell_type": "code",
   "execution_count": null,
   "id": "854138ad",
   "metadata": {},
   "outputs": [],
   "source": [
    "path = './' #include your path to nucleotides files\n",
    "path_out = './Results' #include you"
   ]
  },
  {
   "cell_type": "code",
   "execution_count": null,
   "id": "7c8f0512",
   "metadata": {},
   "outputs": [],
   "source": [
    "for filename in os.listdir(path):\n",
    "  if not os.path.isdir(os.path.join(path, filename)):\n",
    "    with open(path+filename, \"r\") as file:\n",
    "      vetor_dados= file.readlines() #jogar o arquivo de entrada para uma lista\n",
    "      vetor_dados = [line3.strip() for line3 in vetor_dados]#retira o \\n da lista\n",
    "\n",
    "      print(filename)\n",
    "\n",
    "      for line in vetor_dados:\n",
    "        if \">\" not in line:\n",
    "          line_len = len(line)\n",
    "\n",
    "          \n",
    "          stability_list = [stability_values.get(line[i:i+2].upper(), 0) for i in range(0, len(line)-1)]\n",
    "          count = 0\n",
    "          with open(path_out+filename, \"a+\") as out:\n",
    "              for item in stability_list:\n",
    "                out.write(str(item)+\"\\t\")\n",
    "                count+=1\n",
    "                print(count)\n",
    "                if count == line_len-1:\n",
    "                  out.write(\"\\n\")\n",
    "                  count = 0"
   ]
  }
 ],
 "metadata": {
  "kernelspec": {
   "display_name": "Python 3",
   "language": "python",
   "name": "python3"
  },
  "language_info": {
   "codemirror_mode": {
    "name": "ipython",
    "version": 3
   },
   "file_extension": ".py",
   "mimetype": "text/x-python",
   "name": "python",
   "nbconvert_exporter": "python",
   "pygments_lexer": "ipython3",
   "version": "3.8.8"
  }
 },
 "nbformat": 4,
 "nbformat_minor": 5
}
