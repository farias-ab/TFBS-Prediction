{
 "cells": [
  {
   "cell_type": "code",
   "execution_count": 1,
   "id": "a616c6e3",
   "metadata": {},
   "outputs": [],
   "source": [
    "import random\n",
    "\n",
    "# Function to generate a random sequence of nucleotides\n",
    "def rnd_sequence(length):\n",
    "    nucleotides = ['C', 'G', 'A', 'T']\n",
    "    return ''.join(random.choice(nucleotides) for _ in range(length))\n",
    "\n",
    "# Number of desired sequences and length of each sequence\n",
    "num_sequence = 17\n",
    "sequence_lenght = 51\n",
    "\n",
    "\n",
    "with open('sequences.fasta', 'w') as file:\n",
    "    for i in range(num_sequence):\n",
    "        sequence = rnd_sequence(sequence_lenght)\n",
    "        file.write(f'> Sequence_{i+1}\\n{sequence}\\n')\n"
   ]
  },
  {
   "cell_type": "code",
   "execution_count": null,
   "id": "d04a7159",
   "metadata": {},
   "outputs": [],
   "source": []
  }
 ],
 "metadata": {
  "kernelspec": {
   "display_name": "Python 3",
   "language": "python",
   "name": "python3"
  },
  "language_info": {
   "codemirror_mode": {
    "name": "ipython",
    "version": 3
   },
   "file_extension": ".py",
   "mimetype": "text/x-python",
   "name": "python",
   "nbconvert_exporter": "python",
   "pygments_lexer": "ipython3",
   "version": "3.8.8"
  }
 },
 "nbformat": 4,
 "nbformat_minor": 5
}
