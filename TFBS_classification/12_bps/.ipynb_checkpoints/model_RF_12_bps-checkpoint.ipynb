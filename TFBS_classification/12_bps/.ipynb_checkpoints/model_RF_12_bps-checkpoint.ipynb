{
 "cells": [
  {
   "cell_type": "code",
   "execution_count": 1,
   "id": "51527e0f",
   "metadata": {},
   "outputs": [],
   "source": [
    "import pandas as pd\n",
    "from sklearn.model_selection import train_test_split\n",
    "from sklearn.ensemble import RandomForestClassifier\n",
    "from sklearn.metrics import confusion_matrix, accuracy_score, precision_score, recall_score, f1_score, roc_curve, roc_auc_score\n",
    "import matplotlib.pyplot as plt\n",
    "from sklearn.model_selection import GridSearchCV"
   ]
  },
  {
   "cell_type": "code",
   "execution_count": 2,
   "id": "f0a2995f",
   "metadata": {},
   "outputs": [
    {
     "data": {
      "text/html": [
       "<div>\n",
       "<style scoped>\n",
       "    .dataframe tbody tr th:only-of-type {\n",
       "        vertical-align: middle;\n",
       "    }\n",
       "\n",
       "    .dataframe tbody tr th {\n",
       "        vertical-align: top;\n",
       "    }\n",
       "\n",
       "    .dataframe thead th {\n",
       "        text-align: right;\n",
       "    }\n",
       "</style>\n",
       "<table border=\"1\" class=\"dataframe\">\n",
       "  <thead>\n",
       "    <tr style=\"text-align: right;\">\n",
       "      <th></th>\n",
       "      <th>0</th>\n",
       "      <th>1</th>\n",
       "      <th>2</th>\n",
       "      <th>3</th>\n",
       "      <th>4</th>\n",
       "      <th>5</th>\n",
       "      <th>6</th>\n",
       "      <th>7</th>\n",
       "      <th>8</th>\n",
       "      <th>9</th>\n",
       "      <th>10</th>\n",
       "      <th>11</th>\n",
       "      <th>target</th>\n",
       "    </tr>\n",
       "  </thead>\n",
       "  <tbody>\n",
       "    <tr>\n",
       "      <th>0</th>\n",
       "      <td>-1.00</td>\n",
       "      <td>-1.00</td>\n",
       "      <td>-1.28</td>\n",
       "      <td>-1.84</td>\n",
       "      <td>-1.45</td>\n",
       "      <td>-1.45</td>\n",
       "      <td>-1.28</td>\n",
       "      <td>-1.00</td>\n",
       "      <td>-1.44</td>\n",
       "      <td>-1.44</td>\n",
       "      <td>-1.00</td>\n",
       "      <td>-1.44</td>\n",
       "      <td>0</td>\n",
       "    </tr>\n",
       "    <tr>\n",
       "      <th>1</th>\n",
       "      <td>-1.00</td>\n",
       "      <td>-1.00</td>\n",
       "      <td>-1.28</td>\n",
       "      <td>-1.45</td>\n",
       "      <td>-0.88</td>\n",
       "      <td>-1.00</td>\n",
       "      <td>-1.00</td>\n",
       "      <td>-1.44</td>\n",
       "      <td>-1.44</td>\n",
       "      <td>-1.28</td>\n",
       "      <td>-1.28</td>\n",
       "      <td>-1.00</td>\n",
       "      <td>0</td>\n",
       "    </tr>\n",
       "    <tr>\n",
       "      <th>2</th>\n",
       "      <td>-1.00</td>\n",
       "      <td>-1.45</td>\n",
       "      <td>-1.45</td>\n",
       "      <td>-1.00</td>\n",
       "      <td>-1.30</td>\n",
       "      <td>-1.84</td>\n",
       "      <td>-1.30</td>\n",
       "      <td>-1.45</td>\n",
       "      <td>-1.84</td>\n",
       "      <td>-1.28</td>\n",
       "      <td>-0.58</td>\n",
       "      <td>-1.00</td>\n",
       "      <td>0</td>\n",
       "    </tr>\n",
       "    <tr>\n",
       "      <th>3</th>\n",
       "      <td>-1.44</td>\n",
       "      <td>-2.27</td>\n",
       "      <td>-1.84</td>\n",
       "      <td>-1.28</td>\n",
       "      <td>-0.58</td>\n",
       "      <td>-1.00</td>\n",
       "      <td>-1.30</td>\n",
       "      <td>-1.44</td>\n",
       "      <td>-0.58</td>\n",
       "      <td>-1.45</td>\n",
       "      <td>-1.28</td>\n",
       "      <td>-1.00</td>\n",
       "      <td>0</td>\n",
       "    </tr>\n",
       "    <tr>\n",
       "      <th>4</th>\n",
       "      <td>-1.28</td>\n",
       "      <td>-1.28</td>\n",
       "      <td>-1.28</td>\n",
       "      <td>-1.00</td>\n",
       "      <td>-1.28</td>\n",
       "      <td>-1.84</td>\n",
       "      <td>-1.84</td>\n",
       "      <td>-1.28</td>\n",
       "      <td>-1.28</td>\n",
       "      <td>-1.28</td>\n",
       "      <td>-1.44</td>\n",
       "      <td>-1.44</td>\n",
       "      <td>0</td>\n",
       "    </tr>\n",
       "    <tr>\n",
       "      <th>...</th>\n",
       "      <td>...</td>\n",
       "      <td>...</td>\n",
       "      <td>...</td>\n",
       "      <td>...</td>\n",
       "      <td>...</td>\n",
       "      <td>...</td>\n",
       "      <td>...</td>\n",
       "      <td>...</td>\n",
       "      <td>...</td>\n",
       "      <td>...</td>\n",
       "      <td>...</td>\n",
       "      <td>...</td>\n",
       "      <td>...</td>\n",
       "    </tr>\n",
       "    <tr>\n",
       "      <th>796</th>\n",
       "      <td>-2.24</td>\n",
       "      <td>-2.27</td>\n",
       "      <td>-1.28</td>\n",
       "      <td>-0.58</td>\n",
       "      <td>-0.88</td>\n",
       "      <td>-0.58</td>\n",
       "      <td>-1.00</td>\n",
       "      <td>-1.45</td>\n",
       "      <td>-2.24</td>\n",
       "      <td>-2.27</td>\n",
       "      <td>-1.45</td>\n",
       "      <td>-1.45</td>\n",
       "      <td>1</td>\n",
       "    </tr>\n",
       "    <tr>\n",
       "      <th>797</th>\n",
       "      <td>-2.24</td>\n",
       "      <td>-1.44</td>\n",
       "      <td>-1.00</td>\n",
       "      <td>-0.58</td>\n",
       "      <td>-0.88</td>\n",
       "      <td>-0.58</td>\n",
       "      <td>-1.00</td>\n",
       "      <td>-1.45</td>\n",
       "      <td>-2.24</td>\n",
       "      <td>-2.27</td>\n",
       "      <td>-1.45</td>\n",
       "      <td>-1.45</td>\n",
       "      <td>1</td>\n",
       "    </tr>\n",
       "    <tr>\n",
       "      <th>798</th>\n",
       "      <td>-2.24</td>\n",
       "      <td>-1.44</td>\n",
       "      <td>-1.00</td>\n",
       "      <td>-1.28</td>\n",
       "      <td>-1.84</td>\n",
       "      <td>-1.84</td>\n",
       "      <td>-2.24</td>\n",
       "      <td>-1.30</td>\n",
       "      <td>-1.00</td>\n",
       "      <td>-1.00</td>\n",
       "      <td>-1.45</td>\n",
       "      <td>-2.24</td>\n",
       "      <td>1</td>\n",
       "    </tr>\n",
       "    <tr>\n",
       "      <th>799</th>\n",
       "      <td>-2.24</td>\n",
       "      <td>-1.44</td>\n",
       "      <td>-1.00</td>\n",
       "      <td>-1.28</td>\n",
       "      <td>-1.45</td>\n",
       "      <td>-1.30</td>\n",
       "      <td>-1.84</td>\n",
       "      <td>-1.30</td>\n",
       "      <td>-1.00</td>\n",
       "      <td>-1.00</td>\n",
       "      <td>-1.45</td>\n",
       "      <td>-2.24</td>\n",
       "      <td>1</td>\n",
       "    </tr>\n",
       "    <tr>\n",
       "      <th>800</th>\n",
       "      <td>-1.44</td>\n",
       "      <td>-1.44</td>\n",
       "      <td>-0.58</td>\n",
       "      <td>-1.00</td>\n",
       "      <td>-1.30</td>\n",
       "      <td>-1.30</td>\n",
       "      <td>-1.30</td>\n",
       "      <td>-1.30</td>\n",
       "      <td>-0.88</td>\n",
       "      <td>-1.28</td>\n",
       "      <td>-1.28</td>\n",
       "      <td>-1.28</td>\n",
       "      <td>1</td>\n",
       "    </tr>\n",
       "  </tbody>\n",
       "</table>\n",
       "<p>801 rows × 13 columns</p>\n",
       "</div>"
      ],
      "text/plain": [
       "        0     1     2     3     4     5     6     7     8     9    10    11  \\\n",
       "0   -1.00 -1.00 -1.28 -1.84 -1.45 -1.45 -1.28 -1.00 -1.44 -1.44 -1.00 -1.44   \n",
       "1   -1.00 -1.00 -1.28 -1.45 -0.88 -1.00 -1.00 -1.44 -1.44 -1.28 -1.28 -1.00   \n",
       "2   -1.00 -1.45 -1.45 -1.00 -1.30 -1.84 -1.30 -1.45 -1.84 -1.28 -0.58 -1.00   \n",
       "3   -1.44 -2.27 -1.84 -1.28 -0.58 -1.00 -1.30 -1.44 -0.58 -1.45 -1.28 -1.00   \n",
       "4   -1.28 -1.28 -1.28 -1.00 -1.28 -1.84 -1.84 -1.28 -1.28 -1.28 -1.44 -1.44   \n",
       "..    ...   ...   ...   ...   ...   ...   ...   ...   ...   ...   ...   ...   \n",
       "796 -2.24 -2.27 -1.28 -0.58 -0.88 -0.58 -1.00 -1.45 -2.24 -2.27 -1.45 -1.45   \n",
       "797 -2.24 -1.44 -1.00 -0.58 -0.88 -0.58 -1.00 -1.45 -2.24 -2.27 -1.45 -1.45   \n",
       "798 -2.24 -1.44 -1.00 -1.28 -1.84 -1.84 -2.24 -1.30 -1.00 -1.00 -1.45 -2.24   \n",
       "799 -2.24 -1.44 -1.00 -1.28 -1.45 -1.30 -1.84 -1.30 -1.00 -1.00 -1.45 -2.24   \n",
       "800 -1.44 -1.44 -0.58 -1.00 -1.30 -1.30 -1.30 -1.30 -0.88 -1.28 -1.28 -1.28   \n",
       "\n",
       "     target  \n",
       "0         0  \n",
       "1         0  \n",
       "2         0  \n",
       "3         0  \n",
       "4         0  \n",
       "..      ...  \n",
       "796       1  \n",
       "797       1  \n",
       "798       1  \n",
       "799       1  \n",
       "800       1  \n",
       "\n",
       "[801 rows x 13 columns]"
      ]
     },
     "execution_count": 2,
     "metadata": {},
     "output_type": "execute_result"
    }
   ],
   "source": [
    "df = pd.read_csv('dataset_bps_12.csv', sep=',')\n",
    "df"
   ]
  },
  {
   "cell_type": "code",
   "execution_count": 3,
   "id": "67a5ed74",
   "metadata": {},
   "outputs": [],
   "source": [
    "X = df.iloc[:,:-1]\n",
    "y = df.iloc[:,-1]\n",
    "\n",
    "\n",
    "X_train, X_test, y_train, y_test = train_test_split(X, y, test_size=0.20, random_state=42)"
   ]
  },
  {
   "cell_type": "code",
   "execution_count": 4,
   "id": "6af2f77f",
   "metadata": {},
   "outputs": [
    {
     "data": {
      "text/plain": [
       "RandomForestClassifier(random_state=42)"
      ]
     },
     "execution_count": 4,
     "metadata": {},
     "output_type": "execute_result"
    }
   ],
   "source": [
    "rf_classifier = RandomForestClassifier(random_state=42)\n",
    "rf_classifier.fit(X_train, y_train)"
   ]
  },
  {
   "cell_type": "code",
   "execution_count": 5,
   "id": "746c5105",
   "metadata": {},
   "outputs": [],
   "source": [
    "y_pred = rf_classifier.predict(X_test)"
   ]
  },
  {
   "cell_type": "code",
   "execution_count": 6,
   "id": "c62ee91e",
   "metadata": {},
   "outputs": [
    {
     "name": "stdout",
     "output_type": "stream",
     "text": [
      "Acurácia: 0.8509316770186336\n",
      "Matriz de Confusão:\n",
      "[[82  5]\n",
      " [19 55]]\n",
      "Precisão: 0.8642739273927393\n",
      "Revocação: 0.8428859894377135\n",
      "F1-Score: 0.8466179739599873\n"
     ]
    },
    {
     "data": {
      "image/png": "[encoded data removed]",
      "text/plain": [
       "<Figure size 432x288 with 1 Axes>"
      ]
     },
     "metadata": {
      "needs_background": "light"
     },
     "output_type": "display_data"
    }
   ],
   "source": [
    "# exactitud\n",
    "accuracy = accuracy_score(y_test, y_pred)\n",
    "print(\"Acurácia:\", accuracy)\n",
    "\n",
    "# matriz de confusión\n",
    "cm = confusion_matrix(y_test, y_pred)\n",
    "print(\"Matriz de Confusão:\")\n",
    "print(cm)\n",
    "\n",
    "# Precision\n",
    "precision = precision_score(y_test, y_pred, average='macro')\n",
    "print(\"Precisão:\", precision)\n",
    "\n",
    "# Recall\n",
    "recall = recall_score(y_test, y_pred, average='macro')\n",
    "print(\"Revocação:\", recall)\n",
    "\n",
    "# F1-Score\n",
    "f1 = f1_score(y_test, y_pred, average='macro')\n",
    "print(\"F1-Score:\", f1)\n",
    "\n",
    "# ROC\n",
    "y_scores = rf_classifier.predict_proba(X_test)[:, 1]  # Probabilidade da classe positiva\n",
    "fpr, tpr, thresholds = roc_curve(y_test, y_scores)\n",
    "auc = roc_auc_score(y_test, y_scores)\n",
    "\n",
    "# Plote a curva ROC\n",
    "plt.plot(fpr, tpr, label='Curva ROC (área = {:.2f})'.format(auc))\n",
    "plt.plot([0, 1], [0, 1], 'k--')\n",
    "plt.xlabel('Taxa de Falsos Positivos')\n",
    "plt.ylabel('Taxa de Verdadeiros Positivos')\n",
    "plt.title('Curva ROC')\n",
    "plt.legend(loc='lower right')\n",
    "plt.show()"
   ]
  },
  {
   "cell_type": "code",
   "execution_count": 7,
   "id": "eff04da8",
   "metadata": {},
   "outputs": [],
   "source": [
    "# Criar um DataFrame com os dados da curva ROC\n",
    "roc_data = pd.DataFrame({\n",
    "    'Taxa de Falsos Positivos': fpr,\n",
    "    'Taxa de Verdadeiros Positivos': tpr,\n",
    "    'Thresholds': thresholds\n",
    "})\n",
    "\n",
    "# Salvar os dados em um arquivo CSV\n",
    "roc_data.to_csv('RF_curva_roc_data.csv', index=False)"
   ]
  },
  {
   "cell_type": "markdown",
   "id": "787f0525",
   "metadata": {},
   "source": [
    "## Gridsearch"
   ]
  },
  {
   "cell_type": "code",
   "execution_count": 18,
   "id": "e40e346c",
   "metadata": {},
   "outputs": [
    {
     "name": "stdout",
     "output_type": "stream",
     "text": [
      "Mejores parámetros:  {'bootstrap': True, 'max_depth': 35, 'max_features': 3, 'min_samples_leaf': 1, 'min_samples_split': 5, 'n_estimators': 200}\n"
     ]
    }
   ],
   "source": [
    "X = df.iloc[:,:-1]\n",
    "y = df.iloc[:,-1]\n",
    "\n",
    "\n",
    "param_grid = {\n",
    "'n_estimators': [50,60,70,90,100,150,200],\n",
    "'max_features': [3,6,7,10],\n",
    "'max_depth':[35,40,100],\n",
    "'min_samples_split':[2,5,6,7,9,20],\n",
    "'min_samples_leaf':[1,2,8,20],\n",
    "'bootstrap':[True]\n",
    "}\n",
    "\n",
    "# classificador DecisionTree\n",
    "rf_classifier = RandomForestClassifier(random_state=42)\n",
    "\n",
    "grid_search = GridSearchCV(rf_classifier, param_grid, cv=10)\n",
    "grid_search.fit(X, y)\n",
    "\n",
    "# Melhores parâmetros \n",
    "print(\"Mejores parámetros: \", grid_search.best_params_)"
   ]
  },
  {
   "cell_type": "code",
   "execution_count": 19,
   "id": "67ba44f7",
   "metadata": {},
   "outputs": [
    {
     "name": "stdout",
     "output_type": "stream",
     "text": [
      "Mejores parámetros:  {'bootstrap': True, 'max_depth': 35, 'max_features': 3, 'min_samples_leaf': 1, 'min_samples_split': 5, 'n_estimators': 200}\n"
     ]
    }
   ],
   "source": [
    "# Melhores parâmetros \n",
    "print(\"Mejores parámetros: \", grid_search.best_params_)"
   ]
  },
  {
   "cell_type": "code",
   "execution_count": 20,
   "id": "d2478fe9",
   "metadata": {},
   "outputs": [
    {
     "data": {
      "text/plain": [
       "RandomForestClassifier(max_depth=35, max_features=7, min_samples_leaf=2,\n",
       "                       min_samples_split=5, n_estimators=60)"
      ]
     },
     "execution_count": 20,
     "metadata": {},
     "output_type": "execute_result"
    }
   ],
   "source": [
    "X_train, X_test, y_train, y_test = train_test_split(X, y, test_size=0.20, random_state=42)\n",
    "\n",
    "best_params = {'bootstrap': True, 'max_depth': 35, 'max_features': 7, 'min_samples_leaf': 2, 'min_samples_split': 5, 'n_estimators': 60}\n",
    "   \n",
    "\n",
    "# classificador DecisionTree con los mejores parámetros\n",
    "rf_classifier = RandomForestClassifier(**best_params)\n",
    "\n",
    "\n",
    "rf_classifier.fit(X_train, y_train)"
   ]
  },
  {
   "cell_type": "code",
   "execution_count": 21,
   "id": "c3a4109a",
   "metadata": {},
   "outputs": [],
   "source": [
    "y_pred = rf_classifier.predict(X_test)"
   ]
  },
  {
   "cell_type": "code",
   "execution_count": 22,
   "id": "ccee6df6",
   "metadata": {},
   "outputs": [
    {
     "name": "stdout",
     "output_type": "stream",
     "text": [
      "Acurácia: 0.8322981366459627\n",
      "Matriz de Confusão:\n",
      "[[78  9]\n",
      " [18 56]]\n",
      "Precisão: 0.8370192307692308\n",
      "Revocação: 0.8266542404473439\n",
      "F1-Score: 0.8291072060384479\n"
     ]
    },
    {
     "data": {
      "image/png": "[encoded data removed]",
      "text/plain": [
       "<Figure size 432x288 with 1 Axes>"
      ]
     },
     "metadata": {
      "needs_background": "light"
     },
     "output_type": "display_data"
    }
   ],
   "source": [
    "# exactitud\n",
    "accuracy = accuracy_score(y_test, y_pred)\n",
    "print(\"Acurácia:\", accuracy)\n",
    "\n",
    "# Matriz de confusión\n",
    "cm = confusion_matrix(y_test, y_pred)\n",
    "print(\"Matriz de Confusão:\")\n",
    "print(cm)\n",
    "\n",
    "# Precision\n",
    "precision = precision_score(y_test, y_pred, average='macro')\n",
    "print(\"Precisão:\", precision)\n",
    "\n",
    "# Recall\n",
    "recall = recall_score(y_test, y_pred, average='macro')\n",
    "print(\"Revocação:\", recall)\n",
    "\n",
    "# F1-Score\n",
    "f1 = f1_score(y_test, y_pred, average='macro')\n",
    "print(\"F1-Score:\", f1)\n",
    "\n",
    "# ROC\n",
    "y_scores = rf_classifier.predict_proba(X_test)[:, 1]  # Probabilidade da classe positiva\n",
    "fpr, tpr, thresholds = roc_curve(y_test, y_scores)\n",
    "auc = roc_auc_score(y_test, y_scores)\n",
    "\n",
    "# Plote a curva ROC\n",
    "plt.plot(fpr, tpr, label='Curva ROC (área = {:.2f})'.format(auc))\n",
    "plt.plot([0, 1], [0, 1], 'k--')\n",
    "plt.xlabel('Taxa de Falsos Positivos')\n",
    "plt.ylabel('Taxa de Verdadeiros Positivos')\n",
    "plt.title('Curva ROC')\n",
    "plt.legend(loc='lower right')\n",
    "plt.show()"
   ]
  },
  {
   "cell_type": "code",
   "execution_count": null,
   "id": "5c95e5c0",
   "metadata": {},
   "outputs": [],
   "source": []
  },
  {
   "cell_type": "code",
   "execution_count": null,
   "id": "1690343e",
   "metadata": {},
   "outputs": [],
   "source": []
  },
  {
   "cell_type": "code",
   "execution_count": null,
   "id": "8eee38ae",
   "metadata": {},
   "outputs": [],
   "source": []
  },
  {
   "cell_type": "code",
   "execution_count": null,
   "id": "8bb43297",
   "metadata": {},
   "outputs": [],
   "source": []
  },
  {
   "cell_type": "code",
   "execution_count": null,
   "id": "9d06f20a",
   "metadata": {},
   "outputs": [],
   "source": []
  },
  {
   "cell_type": "code",
   "execution_count": null,
   "id": "7d3169fe",
   "metadata": {},
   "outputs": [],
   "source": []
  }
 ],
 "metadata": {
  "kernelspec": {
   "display_name": "Python 3",
   "language": "python",
   "name": "python3"
  },
  "language_info": {
   "codemirror_mode": {
    "name": "ipython",
    "version": 3
   },
   "file_extension": ".py",
   "mimetype": "text/x-python",
   "name": "python",
   "nbconvert_exporter": "python",
   "pygments_lexer": "ipython3",
   "version": "3.8.8"
  }
 },
 "nbformat": 4,
 "nbformat_minor": 5
}
