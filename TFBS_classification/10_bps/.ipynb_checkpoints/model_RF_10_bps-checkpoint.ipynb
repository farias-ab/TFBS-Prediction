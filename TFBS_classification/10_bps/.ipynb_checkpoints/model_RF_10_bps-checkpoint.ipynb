{
 "cells": [
  {
   "cell_type": "code",
   "execution_count": 1,
   "id": "aafa3b19",
   "metadata": {},
   "outputs": [],
   "source": [
    "import pandas as pd\n",
    "from sklearn.model_selection import train_test_split\n",
    "from sklearn.ensemble import RandomForestClassifier\n",
    "from sklearn.metrics import confusion_matrix, accuracy_score, precision_score, recall_score, f1_score, roc_curve, roc_auc_score\n",
    "import matplotlib.pyplot as plt\n",
    "from sklearn.model_selection import GridSearchCV"
   ]
  },
  {
   "cell_type": "code",
   "execution_count": 2,
   "id": "0a7630f9",
   "metadata": {},
   "outputs": [
    {
     "data": {
      "text/html": [
       "<div>\n",
       "<style scoped>\n",
       "    .dataframe tbody tr th:only-of-type {\n",
       "        vertical-align: middle;\n",
       "    }\n",
       "\n",
       "    .dataframe tbody tr th {\n",
       "        vertical-align: top;\n",
       "    }\n",
       "\n",
       "    .dataframe thead th {\n",
       "        text-align: right;\n",
       "    }\n",
       "</style>\n",
       "<table border=\"1\" class=\"dataframe\">\n",
       "  <thead>\n",
       "    <tr style=\"text-align: right;\">\n",
       "      <th></th>\n",
       "      <th>0</th>\n",
       "      <th>1</th>\n",
       "      <th>2</th>\n",
       "      <th>3</th>\n",
       "      <th>4</th>\n",
       "      <th>5</th>\n",
       "      <th>6</th>\n",
       "      <th>7</th>\n",
       "      <th>8</th>\n",
       "      <th>9</th>\n",
       "      <th>target</th>\n",
       "    </tr>\n",
       "  </thead>\n",
       "  <tbody>\n",
       "    <tr>\n",
       "      <th>0</th>\n",
       "      <td>-2.24</td>\n",
       "      <td>-2.27</td>\n",
       "      <td>-2.24</td>\n",
       "      <td>-1.84</td>\n",
       "      <td>-1.84</td>\n",
       "      <td>-2.27</td>\n",
       "      <td>-1.45</td>\n",
       "      <td>-1.00</td>\n",
       "      <td>-0.88</td>\n",
       "      <td>-0.58</td>\n",
       "      <td>0</td>\n",
       "    </tr>\n",
       "    <tr>\n",
       "      <th>1</th>\n",
       "      <td>-1.45</td>\n",
       "      <td>-1.45</td>\n",
       "      <td>-1.28</td>\n",
       "      <td>-0.58</td>\n",
       "      <td>-1.30</td>\n",
       "      <td>-1.44</td>\n",
       "      <td>-0.58</td>\n",
       "      <td>-1.30</td>\n",
       "      <td>-1.84</td>\n",
       "      <td>-1.30</td>\n",
       "      <td>0</td>\n",
       "    </tr>\n",
       "    <tr>\n",
       "      <th>2</th>\n",
       "      <td>-1.30</td>\n",
       "      <td>-1.30</td>\n",
       "      <td>-1.45</td>\n",
       "      <td>-2.24</td>\n",
       "      <td>-1.84</td>\n",
       "      <td>-1.84</td>\n",
       "      <td>-1.84</td>\n",
       "      <td>-1.44</td>\n",
       "      <td>-1.28</td>\n",
       "      <td>-1.28</td>\n",
       "      <td>0</td>\n",
       "    </tr>\n",
       "    <tr>\n",
       "      <th>3</th>\n",
       "      <td>-2.27</td>\n",
       "      <td>-2.24</td>\n",
       "      <td>-1.84</td>\n",
       "      <td>-1.84</td>\n",
       "      <td>-1.44</td>\n",
       "      <td>-0.58</td>\n",
       "      <td>-1.30</td>\n",
       "      <td>-1.30</td>\n",
       "      <td>-1.00</td>\n",
       "      <td>-1.30</td>\n",
       "      <td>0</td>\n",
       "    </tr>\n",
       "    <tr>\n",
       "      <th>4</th>\n",
       "      <td>-1.45</td>\n",
       "      <td>-1.00</td>\n",
       "      <td>-1.00</td>\n",
       "      <td>-1.30</td>\n",
       "      <td>-1.84</td>\n",
       "      <td>-1.44</td>\n",
       "      <td>-1.28</td>\n",
       "      <td>-1.84</td>\n",
       "      <td>-1.84</td>\n",
       "      <td>-1.45</td>\n",
       "      <td>0</td>\n",
       "    </tr>\n",
       "    <tr>\n",
       "      <th>...</th>\n",
       "      <td>...</td>\n",
       "      <td>...</td>\n",
       "      <td>...</td>\n",
       "      <td>...</td>\n",
       "      <td>...</td>\n",
       "      <td>...</td>\n",
       "      <td>...</td>\n",
       "      <td>...</td>\n",
       "      <td>...</td>\n",
       "      <td>...</td>\n",
       "      <td>...</td>\n",
       "    </tr>\n",
       "    <tr>\n",
       "      <th>173</th>\n",
       "      <td>-1.44</td>\n",
       "      <td>-1.44</td>\n",
       "      <td>-0.58</td>\n",
       "      <td>-1.00</td>\n",
       "      <td>-0.88</td>\n",
       "      <td>-1.00</td>\n",
       "      <td>-0.58</td>\n",
       "      <td>-1.45</td>\n",
       "      <td>-1.45</td>\n",
       "      <td>-1.00</td>\n",
       "      <td>1</td>\n",
       "    </tr>\n",
       "    <tr>\n",
       "      <th>174</th>\n",
       "      <td>-1.28</td>\n",
       "      <td>-2.24</td>\n",
       "      <td>-2.27</td>\n",
       "      <td>-1.45</td>\n",
       "      <td>-1.45</td>\n",
       "      <td>-1.28</td>\n",
       "      <td>-0.58</td>\n",
       "      <td>-1.45</td>\n",
       "      <td>-1.45</td>\n",
       "      <td>-1.00</td>\n",
       "      <td>1</td>\n",
       "    </tr>\n",
       "    <tr>\n",
       "      <th>175</th>\n",
       "      <td>-0.88</td>\n",
       "      <td>-1.44</td>\n",
       "      <td>-1.44</td>\n",
       "      <td>-1.28</td>\n",
       "      <td>-1.28</td>\n",
       "      <td>-1.00</td>\n",
       "      <td>-0.58</td>\n",
       "      <td>-1.45</td>\n",
       "      <td>-1.45</td>\n",
       "      <td>-1.45</td>\n",
       "      <td>1</td>\n",
       "    </tr>\n",
       "    <tr>\n",
       "      <th>176</th>\n",
       "      <td>-1.00</td>\n",
       "      <td>-1.44</td>\n",
       "      <td>-1.44</td>\n",
       "      <td>-0.58</td>\n",
       "      <td>-1.45</td>\n",
       "      <td>-1.45</td>\n",
       "      <td>-1.00</td>\n",
       "      <td>-0.88</td>\n",
       "      <td>-1.44</td>\n",
       "      <td>-1.30</td>\n",
       "      <td>1</td>\n",
       "    </tr>\n",
       "    <tr>\n",
       "      <th>177</th>\n",
       "      <td>-1.00</td>\n",
       "      <td>-1.44</td>\n",
       "      <td>-1.44</td>\n",
       "      <td>-0.58</td>\n",
       "      <td>-1.45</td>\n",
       "      <td>-1.45</td>\n",
       "      <td>-1.30</td>\n",
       "      <td>-1.44</td>\n",
       "      <td>-1.00</td>\n",
       "      <td>-1.28</td>\n",
       "      <td>1</td>\n",
       "    </tr>\n",
       "  </tbody>\n",
       "</table>\n",
       "<p>178 rows × 11 columns</p>\n",
       "</div>"
      ],
      "text/plain": [
       "        0     1     2     3     4     5     6     7     8     9  target\n",
       "0   -2.24 -2.27 -2.24 -1.84 -1.84 -2.27 -1.45 -1.00 -0.88 -0.58       0\n",
       "1   -1.45 -1.45 -1.28 -0.58 -1.30 -1.44 -0.58 -1.30 -1.84 -1.30       0\n",
       "2   -1.30 -1.30 -1.45 -2.24 -1.84 -1.84 -1.84 -1.44 -1.28 -1.28       0\n",
       "3   -2.27 -2.24 -1.84 -1.84 -1.44 -0.58 -1.30 -1.30 -1.00 -1.30       0\n",
       "4   -1.45 -1.00 -1.00 -1.30 -1.84 -1.44 -1.28 -1.84 -1.84 -1.45       0\n",
       "..    ...   ...   ...   ...   ...   ...   ...   ...   ...   ...     ...\n",
       "173 -1.44 -1.44 -0.58 -1.00 -0.88 -1.00 -0.58 -1.45 -1.45 -1.00       1\n",
       "174 -1.28 -2.24 -2.27 -1.45 -1.45 -1.28 -0.58 -1.45 -1.45 -1.00       1\n",
       "175 -0.88 -1.44 -1.44 -1.28 -1.28 -1.00 -0.58 -1.45 -1.45 -1.45       1\n",
       "176 -1.00 -1.44 -1.44 -0.58 -1.45 -1.45 -1.00 -0.88 -1.44 -1.30       1\n",
       "177 -1.00 -1.44 -1.44 -0.58 -1.45 -1.45 -1.30 -1.44 -1.00 -1.28       1\n",
       "\n",
       "[178 rows x 11 columns]"
      ]
     },
     "execution_count": 2,
     "metadata": {},
     "output_type": "execute_result"
    }
   ],
   "source": [
    "df = pd.read_csv('dataset_bps_10.csv', sep=',')\n",
    "df"
   ]
  },
  {
   "cell_type": "code",
   "execution_count": 3,
   "id": "303da27f",
   "metadata": {},
   "outputs": [],
   "source": [
    "X = df.iloc[:,:-1]\n",
    "y = df.iloc[:,-1]\n",
    "\n",
    "\n",
    "X_train, X_test, y_train, y_test = train_test_split(X, y, test_size=0.20, random_state=42)"
   ]
  },
  {
   "cell_type": "code",
   "execution_count": 4,
   "id": "5dd2f094",
   "metadata": {},
   "outputs": [
    {
     "data": {
      "text/plain": [
       "RandomForestClassifier(random_state=42)"
      ]
     },
     "execution_count": 4,
     "metadata": {},
     "output_type": "execute_result"
    }
   ],
   "source": [
    "rf_classifier = RandomForestClassifier(random_state=42)\n",
    "rf_classifier.fit(X_train, y_train)"
   ]
  },
  {
   "cell_type": "code",
   "execution_count": 5,
   "id": "1eee3a88",
   "metadata": {},
   "outputs": [],
   "source": [
    "y_pred = rf_classifier.predict(X_test)"
   ]
  },
  {
   "cell_type": "code",
   "execution_count": 6,
   "id": "90d23013",
   "metadata": {},
   "outputs": [
    {
     "name": "stdout",
     "output_type": "stream",
     "text": [
      "Acurácia: 0.7777777777777778\n",
      "Matriz de Confusão:\n",
      "[[17  3]\n",
      " [ 5 11]]\n",
      "Precisão: 0.7792207792207793\n",
      "Revocação: 0.76875\n",
      "F1-Score: 0.7714285714285715\n"
     ]
    },
    {
     "data": {
      "image/png": "[encoded data removed]",
      "text/plain": [
       "<Figure size 432x288 with 1 Axes>"
      ]
     },
     "metadata": {
      "needs_background": "light"
     },
     "output_type": "display_data"
    }
   ],
   "source": [
    "# accuracy\n",
    "accuracy = accuracy_score(y_test, y_pred)\n",
    "print(\"Acurácia:\", accuracy)\n",
    "\n",
    "# confusion matrix\n",
    "cm = confusion_matrix(y_test, y_pred)\n",
    "print(\"Matriz de Confusão:\")\n",
    "print(cm)\n",
    "\n",
    "# Precision\n",
    "precision = precision_score(y_test, y_pred, average='macro')\n",
    "print(\"Precisão:\", precision)\n",
    "\n",
    "# Recall\n",
    "recall = recall_score(y_test, y_pred, average='macro')\n",
    "print(\"Revocação:\", recall)\n",
    "\n",
    "# F1-Score\n",
    "f1 = f1_score(y_test, y_pred, average='macro')\n",
    "print(\"F1-Score:\", f1)\n",
    "\n",
    "# ROC\n",
    "y_scores = rf_classifier.predict_proba(X_test)[:, 1]  # Probabilidade da classe positiva\n",
    "fpr, tpr, thresholds = roc_curve(y_test, y_scores)\n",
    "auc = roc_auc_score(y_test, y_scores)\n",
    "\n",
    "# ROC plot\n",
    "plt.plot(fpr, tpr, label='Curva ROC (área = {:.2f})'.format(auc))\n",
    "plt.plot([0, 1], [0, 1], 'k--')\n",
    "plt.xlabel('Taxa de Falsos Positivos')\n",
    "plt.ylabel('Taxa de Verdadeiros Positivos')\n",
    "plt.title('Curva ROC')\n",
    "plt.legend(loc='lower right')\n",
    "plt.show()"
   ]
  },
  {
   "cell_type": "code",
   "execution_count": 7,
   "id": "8b7a7ba1",
   "metadata": {},
   "outputs": [],
   "source": [
    "# Criar um DataFrame com os dados da curva ROC\n",
    "roc_data = pd.DataFrame({\n",
    "    'Taxa de Falsos Positivos': fpr,\n",
    "    'Taxa de Verdadeiros Positivos': tpr,\n",
    "    'Thresholds': thresholds\n",
    "})\n",
    "\n",
    "# Salvar os dados em um arquivo CSV\n",
    "roc_data.to_csv('RF_curva_roc_data.csv', index=False)"
   ]
  },
  {
   "cell_type": "markdown",
   "id": "10a48ed7",
   "metadata": {},
   "source": [
    "# GridSearch"
   ]
  },
  {
   "cell_type": "code",
   "execution_count": 17,
   "id": "60c5f85d",
   "metadata": {},
   "outputs": [
    {
     "name": "stdout",
     "output_type": "stream",
     "text": [
      "Mejores parámetros:  {'bootstrap': True, 'max_depth': 11, 'max_features': 2, 'min_samples_leaf': 3, 'min_samples_split': 10, 'n_estimators': 12}\n"
     ]
    }
   ],
   "source": [
    "X = df.iloc[:,:-1]\n",
    "y = df.iloc[:,-1]\n",
    "\n",
    "\n",
    "param_grid = {\n",
    "'n_estimators': [10,11,12,15,100,120,150],\n",
    "'max_features': [2],\n",
    "'max_depth':[10,11,12,13,15],\n",
    "'min_samples_split':[10],\n",
    "'min_samples_leaf':[3],\n",
    "'bootstrap':[True]\n",
    "}\n",
    "\n",
    "# classificador DecisionTree\n",
    "rf_classifier = RandomForestClassifier(random_state=42)\n",
    "\n",
    "grid_search = GridSearchCV(rf_classifier, param_grid, cv=10)\n",
    "grid_search.fit(X, y)\n",
    "\n",
    "# Melhores parâmetros \n",
    "print(\"Mejores parámetros: \", grid_search.best_params_)"
   ]
  },
  {
   "cell_type": "code",
   "execution_count": 18,
   "id": "ed433db0",
   "metadata": {},
   "outputs": [
    {
     "data": {
      "text/plain": [
       "RandomForestClassifier(max_depth=12, max_features=2, min_samples_leaf=3,\n",
       "                       min_samples_split=10, n_estimators=12)"
      ]
     },
     "execution_count": 18,
     "metadata": {},
     "output_type": "execute_result"
    }
   ],
   "source": [
    "X_train, X_test, y_train, y_test = train_test_split(X, y, test_size=0.20, random_state=42)\n",
    "\n",
    "best_params = {'bootstrap': True, 'max_depth': 12, 'max_features': 2, 'min_samples_leaf': 3, 'min_samples_split': 10, 'n_estimators': 12}\n",
    "   \n",
    "\n",
    "# classificador DecisionTree con los mejores parámetros\n",
    "rf_classifier = RandomForestClassifier(**best_params)\n",
    "\n",
    "\n",
    "rf_classifier.fit(X_train, y_train)"
   ]
  },
  {
   "cell_type": "code",
   "execution_count": 19,
   "id": "5b0e9b51",
   "metadata": {},
   "outputs": [],
   "source": [
    "y_pred = rf_classifier.predict(X_test)"
   ]
  },
  {
   "cell_type": "code",
   "execution_count": 20,
   "id": "70edd5a6",
   "metadata": {},
   "outputs": [
    {
     "name": "stdout",
     "output_type": "stream",
     "text": [
      "Acurácia: 0.5555555555555556\n",
      "Matriz de Confusão:\n",
      "[[13  7]\n",
      " [ 9  7]]\n",
      "Precisão: 0.5454545454545454\n",
      "Revocação: 0.54375\n",
      "F1-Score: 0.5428571428571429\n"
     ]
    },
    {
     "data": {
      "image/png": "[encoded data removed]",
      "text/plain": [
       "<Figure size 432x288 with 1 Axes>"
      ]
     },
     "metadata": {
      "needs_background": "light"
     },
     "output_type": "display_data"
    }
   ],
   "source": [
    "# exactitud\n",
    "accuracy = accuracy_score(y_test, y_pred)\n",
    "print(\"Acurácia:\", accuracy)\n",
    "\n",
    "# Matriz de confusión\n",
    "cm = confusion_matrix(y_test, y_pred)\n",
    "print(\"Matriz de Confusão:\")\n",
    "print(cm)\n",
    "\n",
    "# Precision\n",
    "precision = precision_score(y_test, y_pred, average='macro')\n",
    "print(\"Precisão:\", precision)\n",
    "\n",
    "# Recall\n",
    "recall = recall_score(y_test, y_pred, average='macro')\n",
    "print(\"Revocação:\", recall)\n",
    "\n",
    "# F1-Score\n",
    "f1 = f1_score(y_test, y_pred, average='macro')\n",
    "print(\"F1-Score:\", f1)\n",
    "\n",
    "# ROC\n",
    "y_scores = rf_classifier.predict_proba(X_test)[:, 1]  # Probabilidade da classe positiva\n",
    "fpr, tpr, thresholds = roc_curve(y_test, y_scores)\n",
    "auc = roc_auc_score(y_test, y_scores)\n",
    "\n",
    "# Plote a curva ROC\n",
    "plt.plot(fpr, tpr, label='Curva ROC (área = {:.2f})'.format(auc))\n",
    "plt.plot([0, 1], [0, 1], 'k--')\n",
    "plt.xlabel('Taxa de Falsos Positivos')\n",
    "plt.ylabel('Taxa de Verdadeiros Positivos')\n",
    "plt.title('Curva ROC')\n",
    "plt.legend(loc='lower right')\n",
    "plt.show()"
   ]
  },
  {
   "cell_type": "code",
   "execution_count": null,
   "id": "1c62a804",
   "metadata": {},
   "outputs": [],
   "source": []
  },
  {
   "cell_type": "code",
   "execution_count": null,
   "id": "c84bc421",
   "metadata": {},
   "outputs": [],
   "source": []
  },
  {
   "cell_type": "code",
   "execution_count": null,
   "id": "8d7018ac",
   "metadata": {},
   "outputs": [],
   "source": []
  },
  {
   "cell_type": "code",
   "execution_count": null,
   "id": "3195d9a2",
   "metadata": {},
   "outputs": [],
   "source": []
  }
 ],
 "metadata": {
  "kernelspec": {
   "display_name": "Python 3",
   "language": "python",
   "name": "python3"
  },
  "language_info": {
   "codemirror_mode": {
    "name": "ipython",
    "version": 3
   },
   "file_extension": ".py",
   "mimetype": "text/x-python",
   "name": "python",
   "nbconvert_exporter": "python",
   "pygments_lexer": "ipython3",
   "version": "3.8.8"
  }
 },
 "nbformat": 4,
 "nbformat_minor": 5
}
